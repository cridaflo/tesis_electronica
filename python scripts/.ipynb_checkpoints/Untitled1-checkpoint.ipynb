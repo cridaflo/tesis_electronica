{
 "cells": [
  {
   "cell_type": "code",
   "execution_count": 3,
   "id": "32e8acb7-c475-4131-80a2-4305e7cb38b9",
   "metadata": {},
   "outputs": [
    {
     "ename": "TypeError",
     "evalue": "generate_spectogram() got an unexpected keyword argument 'filename'",
     "output_type": "error",
     "traceback": [
      "\u001b[1;31m---------------------------------------------------------------------------\u001b[0m",
      "\u001b[1;31mTypeError\u001b[0m                                 Traceback (most recent call last)",
      "\u001b[1;32m~\\AppData\\Local\\Temp/ipykernel_25028/1899523996.py\u001b[0m in \u001b[0;36m<module>\u001b[1;34m\u001b[0m\n\u001b[0;32m     18\u001b[0m     \u001b[0mspec_type\u001b[0m \u001b[1;33m=\u001b[0m \u001b[0moption\u001b[0m\u001b[1;33m[\u001b[0m\u001b[1;34m'spec_type'\u001b[0m\u001b[1;33m]\u001b[0m\u001b[1;33m\u001b[0m\u001b[1;33m\u001b[0m\u001b[0m\n\u001b[0;32m     19\u001b[0m     \u001b[0mfilename\u001b[0m \u001b[1;33m=\u001b[0m \u001b[0moption\u001b[0m\u001b[1;33m[\u001b[0m\u001b[1;34m'filename'\u001b[0m\u001b[1;33m]\u001b[0m\u001b[1;33m\u001b[0m\u001b[1;33m\u001b[0m\u001b[0m\n\u001b[1;32m---> 20\u001b[1;33m     \u001b[0mwh\u001b[0m\u001b[1;33m.\u001b[0m\u001b[0mgenerate_spectogram\u001b[0m\u001b[1;33m(\u001b[0m\u001b[0my\u001b[0m\u001b[1;33m,\u001b[0m \u001b[0msr\u001b[0m\u001b[1;33m,\u001b[0m \u001b[0mspec_type\u001b[0m \u001b[1;33m=\u001b[0m\u001b[0mspec_type\u001b[0m\u001b[1;33m,\u001b[0m \u001b[0mplot\u001b[0m \u001b[1;33m=\u001b[0m \u001b[1;32mTrue\u001b[0m\u001b[1;33m,\u001b[0m \u001b[0mfilename\u001b[0m \u001b[1;33m=\u001b[0m \u001b[0mfilename\u001b[0m\u001b[1;33m)\u001b[0m\u001b[1;33m\u001b[0m\u001b[1;33m\u001b[0m\u001b[0m\n\u001b[0m",
      "\u001b[1;31mTypeError\u001b[0m: generate_spectogram() got an unexpected keyword argument 'filename'"
     ]
    }
   ],
   "source": [
    "import wav_handler as wh\n",
    "import librosa\n",
    "import matplotlib.pyplot as plt\n",
    "import numpy as np\n",
    "filename = '../maestro-v3.0.0/2018/MIDI-Unprocessed_Chamber2_MID--AUDIO_09_R3_2018_wav--1.wav'\n",
    "\n",
    "y, sr = wh.load_song(filename = filename, desired_len = 447166)\n",
    "\n",
    "opciones = [\n",
    "    {'spec_type': 'cqt', 'filename': 'cqt_spectogram'},\n",
    "    {'spec_type': 'mel', 'filename': 'mel_spectogram'},\n",
    "    {'spec_type': 'stft', 'filename': 'stft_spectogram'},\n",
    "    {'spec_type': 'lft', 'filename': 'lft_spectogram'},\n",
    "    \n",
    "]\n",
    "\n",
    "for option in opciones:\n",
    "    spec_type = option['spec_type']\n",
    "    filename = option['filename']\n",
    "    wh.generate_spectogram(y, sr, spec_type =spec_type, plot = True, plot_name = filename)\n"
   ]
  },
  {
   "cell_type": "code",
   "execution_count": null,
   "id": "9d644ccc-2c9b-4ab3-91ff-de50a2b13669",
   "metadata": {},
   "outputs": [],
   "source": []
  }
 ],
 "metadata": {
  "kernelspec": {
   "display_name": "Python 3 (ipykernel)",
   "language": "python",
   "name": "python3"
  },
  "language_info": {
   "codemirror_mode": {
    "name": "ipython",
    "version": 3
   },
   "file_extension": ".py",
   "mimetype": "text/x-python",
   "name": "python",
   "nbconvert_exporter": "python",
   "pygments_lexer": "ipython3",
   "version": "3.9.5"
  }
 },
 "nbformat": 4,
 "nbformat_minor": 5
}
